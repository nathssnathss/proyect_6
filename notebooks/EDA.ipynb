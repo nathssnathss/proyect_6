{
 "cells": [
  {
   "cell_type": "code",
   "execution_count": 36,
   "id": "9359bdba-bef7-45fa-b8bb-47b784316e5c",
   "metadata": {},
   "outputs": [
    {
     "name": "stdout",
     "output_type": "stream",
     "text": [
      "<class 'pandas.core.frame.DataFrame'>\n",
      "RangeIndex: 51525 entries, 0 to 51524\n",
      "Data columns (total 13 columns):\n",
      " #   Column        Non-Null Count  Dtype  \n",
      "---  ------        --------------  -----  \n",
      " 0   price         51525 non-null  int64  \n",
      " 1   model_year    47906 non-null  float64\n",
      " 2   model         51525 non-null  object \n",
      " 3   condition     51525 non-null  object \n",
      " 4   cylinders     46265 non-null  float64\n",
      " 5   fuel          51525 non-null  object \n",
      " 6   odometer      43633 non-null  float64\n",
      " 7   transmission  51525 non-null  object \n",
      " 8   type          51525 non-null  object \n",
      " 9   paint_color   42258 non-null  object \n",
      " 10  is_4wd        25572 non-null  float64\n",
      " 11  date_posted   51525 non-null  object \n",
      " 12  days_listed   51525 non-null  int64  \n",
      "dtypes: float64(4), int64(2), object(7)\n",
      "memory usage: 5.1+ MB\n",
      "None\n",
      "               price    model_year     cylinders       odometer   is_4wd  \\\n",
      "count   51525.000000  47906.000000  46265.000000   43633.000000  25572.0   \n",
      "mean    12132.464920   2009.750470      6.125235  115553.461738      1.0   \n",
      "std     10040.803015      6.282065      1.660360   65094.611341      0.0   \n",
      "min         1.000000   1908.000000      3.000000       0.000000      1.0   \n",
      "25%      5000.000000   2006.000000      4.000000   70000.000000      1.0   \n",
      "50%      9000.000000   2011.000000      6.000000  113000.000000      1.0   \n",
      "75%     16839.000000   2014.000000      8.000000  155000.000000      1.0   \n",
      "max    375000.000000   2019.000000     12.000000  990000.000000      1.0   \n",
      "\n",
      "       days_listed  \n",
      "count  51525.00000  \n",
      "mean      39.55476  \n",
      "std       28.20427  \n",
      "min        0.00000  \n",
      "25%       19.00000  \n",
      "50%       33.00000  \n",
      "75%       53.00000  \n",
      "max      271.00000  \n"
     ]
    }
   ],
   "source": [
    "import pandas as pd\n",
    "import numpy as np\n",
    "import os\n",
    "import streamlit as st\n",
    "\n",
    "# Obtener la ruta absoluta del archivo\n",
    "ruta_archivo = os.path.abspath(\"vehicles_us.csv\")\n",
    "\n",
    "df = pd.read_csv(ruta_archivo, sep=',') # Leer los datos\n",
    "\n",
    "# Exploración inicial\n",
    "print(df.info())\n",
    "print(df.describe())\n"
   ]
  },
  {
   "cell_type": "code",
   "execution_count": 37,
   "id": "25ca90fc",
   "metadata": {},
   "outputs": [
    {
     "name": "stdout",
     "output_type": "stream",
     "text": [
      "<class 'pandas.core.frame.DataFrame'>\n",
      "RangeIndex: 51525 entries, 0 to 51524\n",
      "Data columns (total 13 columns):\n",
      " #   Column             Non-Null Count  Dtype  \n",
      "---  ------             --------------  -----  \n",
      " 0   precio             51525 non-null  int64  \n",
      " 1   año_modelo         47906 non-null  float64\n",
      " 2   fabricante         51525 non-null  object \n",
      " 3   condicion          51525 non-null  object \n",
      " 4   cilindros          46265 non-null  float64\n",
      " 5   combustible        51525 non-null  object \n",
      " 6   kilometraje        43633 non-null  float64\n",
      " 7   transmision        51525 non-null  object \n",
      " 8   tipo               51525 non-null  object \n",
      " 9   color_pintura      42258 non-null  object \n",
      " 10  es_4x4             25572 non-null  float64\n",
      " 11  fecha_publicacion  51525 non-null  object \n",
      " 12  dias_publicados    51525 non-null  int64  \n",
      "dtypes: float64(4), int64(2), object(7)\n",
      "memory usage: 5.1+ MB\n",
      "None\n"
     ]
    }
   ],
   "source": [
    "# Correccion de los nombres de columnas\n",
    "columnas_espanol = {\n",
    "    'price': 'precio',\n",
    "    'model': 'fabricante',\n",
    "    'model_year': 'año_modelo',\n",
    "    'condition': 'condicion',\n",
    "    'cylinders': 'cilindros',\n",
    "    'fuel': 'combustible',\n",
    "    'odometer': 'kilometraje',\n",
    "    'transmission': 'transmision',\n",
    "    'type': 'tipo',\n",
    "    'paint_color': 'color_pintura',\n",
    "    'is_4wd': 'es_4x4',\n",
    "    'date_posted': 'fecha_publicacion',\n",
    "    'days_listed': 'dias_publicados'\n",
    "}\n",
    "\n",
    "# Cambiar los nombres de las columnas utilizando el diccionario\n",
    "df.rename(columns=columnas_espanol, inplace=True)\n",
    "\n",
    "# Imprimir la información del DataFrame con los nuevos nombres\n",
    "print(df.info())\n"
   ]
  },
  {
   "cell_type": "code",
   "execution_count": 47,
   "id": "b30644da",
   "metadata": {},
   "outputs": [
    {
     "name": "stdout",
     "output_type": "stream",
     "text": [
      "0             bmw\n",
      "1            ford\n",
      "2         hyundai\n",
      "3            ford\n",
      "4        chrysler\n",
      "           ...   \n",
      "51520      nissan\n",
      "51521       honda\n",
      "51522     hyundai\n",
      "51523      toyota\n",
      "51524      nissan\n",
      "Name: marca, Length: 51525, dtype: object\n"
     ]
    }
   ],
   "source": [
    "df['marca'] = df['fabricante'].str.split().str[0]\n",
    "\n",
    "print(df[\"marca\"])\n"
   ]
  },
  {
   "cell_type": "code",
   "execution_count": null,
   "id": "0a7e0999",
   "metadata": {},
   "outputs": [],
   "source": [
    "# Valores nulos\n",
    "print(df.isnull().sum())"
   ]
  },
  {
   "cell_type": "code",
   "execution_count": null,
   "id": "2374dc0b",
   "metadata": {},
   "outputs": [],
   "source": [
    "# Rellenar valores nulos\n",
    "df['model_year'] = df['model_year'].fillna(df['model_year'].mean())\n",
    "df['cylinders'] = df['cylinders'].fillna(df['cylinders'].median())\n",
    "df['paint_color'] = df['paint_color'].fillna('Desconocido')\n",
    "df.dropna(subset=['odometer'], inplace=True)\n",
    "# Crear una nueva categoría para valores nulos\n",
    "df['is_4wd'] = df['is_4wd'].fillna('Desconocido')\n",
    "print(df.isnull().sum())\n",
    "print(df)"
   ]
  },
  {
   "cell_type": "code",
   "execution_count": null,
   "id": "7d733291",
   "metadata": {},
   "outputs": [],
   "source": [
    "# Convertir columnas numéricas a int64\n",
    "df['model_year'] = df['model_year'].astype('int64')\n",
    "df['cylinders'] = df['cylinders'].astype('int64')\n",
    "df['odometer'] = df['odometer'].astype('int64')  # Ajusta a float64 si necesitas decimales\n",
    "\n",
    "# Convertir columnas categóricas a category\n",
    "categorical_cols = ['model', 'condition', 'fuel', 'transmission', 'type', 'paint_color', 'is_4wd']\n",
    "df[categorical_cols] = df[categorical_cols].astype('category')\n",
    "\n",
    "# Convertir columna de fecha a datetime\n",
    "df['date_posted'] = pd.to_datetime(df['date_posted'])\n",
    "print(df.info())\n"
   ]
  },
  {
   "cell_type": "code",
   "execution_count": null,
   "id": "c9002e7b",
   "metadata": {},
   "outputs": [],
   "source": [
    "import plotly.express as px\n",
    "\n",
    "car_data = pd.read_csv('vehicles_us.csv') # leer los datos\n",
    "fig = px.histogram(car_data, x=\"odometer\") # crear un histograma\n",
    "fig.show() # crear gráfico de dispersión"
   ]
  },
  {
   "cell_type": "code",
   "execution_count": null,
   "id": "383bf2eb",
   "metadata": {},
   "outputs": [],
   "source": [
    "car_data = pd.read_csv('vehicles_us.csv') # leer los datos\n",
    "fig = px.scatter(car_data, x=\"odometer\", y=\"price\") # crear un gráfico de dispersión\n",
    "fig.show() # crear gráfico de dispersión"
   ]
  },
  {
   "cell_type": "code",
   "execution_count": null,
   "id": "1ce77513",
   "metadata": {},
   "outputs": [],
   "source": [
    "# Creamos un gráfico de violín para comparar la distribución del kilometraje por tipo de vehículo\n",
    "fig = px.violin(df, y=\"odometer\", x=\"type\")\n",
    "\n",
    "# Personalizamos el título y las etiquetas del gráfico\n",
    "fig.update_layout(title_text=\"Distribución del Kilometraje por Tipo de Vehículo\",\n",
    "                  xaxis_title=\"Tipo de Vehículo\",\n",
    "                  yaxis_title=\"Kilometraje\")\n",
    "\n",
    "# Mostramos el gráfico\n",
    "fig.show()"
   ]
  },
  {
   "cell_type": "code",
   "execution_count": null,
   "id": "67de415f",
   "metadata": {},
   "outputs": [],
   "source": [
    "# Creamos un heatmap para visualizar el kilometraje promedio por año y tipo de transmisión\n",
    "fig = px.density_heatmap(\n",
    "    df,\n",
    "    x=\"model_year\",\n",
    "    y=\"transmission\",\n",
    "    z=\"odometer\",\n",
    "    color_continuous_scale=\"Viridis\"\n",
    ")\n",
    "\n",
    "# Personalizamos el título y las etiquetas del gráfico\n",
    "fig.update_layout(title_text=\"Kilometraje Promedio por Año y Tipo de Transmisión\",\n",
    "                  xaxis_title=\"Año del Modelo\",\n",
    "                  yaxis_title=\"Tipo de Transmisión\")\n",
    "\n",
    "# Mostramos el gráfico\n",
    "fig.show()"
   ]
  }
 ],
 "metadata": {
  "kernelspec": {
   "display_name": "Python 3",
   "language": "python",
   "name": "python3"
  },
  "language_info": {
   "codemirror_mode": {
    "name": "ipython",
    "version": 3
   },
   "file_extension": ".py",
   "mimetype": "text/x-python",
   "name": "python",
   "nbconvert_exporter": "python",
   "pygments_lexer": "ipython3",
   "version": "3.13.0"
  }
 },
 "nbformat": 4,
 "nbformat_minor": 5
}
